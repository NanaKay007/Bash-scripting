{
 "cells": [
  {
   "cell_type": "code",
   "execution_count": null,
   "id": "190ac4b7",
   "metadata": {},
   "outputs": [],
   "source": []
  },
  {
   "cell_type": "markdown",
   "id": "d3e6df9f",
   "metadata": {},
   "source": [
    "# Ch 27: Control Flow with IF"
   ]
  },
  {
   "cell_type": "markdown",
   "id": "ddf2ea33",
   "metadata": {},
   "source": [
    "## Combining expressions"
   ]
  },
  {
   "cell_type": "code",
   "execution_count": 21,
   "id": "5fd82a29",
   "metadata": {},
   "outputs": [
    {
     "name": "stdout",
     "output_type": "stream",
     "text": [
      "50 is within 1 to 100.\n"
     ]
    }
   ],
   "source": [
    "%%bash\n",
    "MIN_VAL=1\n",
    "MAX_VAL=100\n",
    "INT=50\n",
    "if [[ \"$INT\" =~ ^-?[0-9]+$ ]]; then\n",
    "    \n",
    "    if (( (( INT >= MIN_VAL )) && (( INT <= MAX_VAL )) )); then\n",
    "        echo \"$INT is within $MIN_VAL \\zzzzto $MAX_VAL.\"\n",
    "    else\n",
    "        echo \"$INT is out of range.\"\n",
    "    fi\n",
    "else\n",
    "        echo \"INT is not an integer.\" >&2\n",
    "        exit 1 \n",
    "fi"
   ]
  },
  {
   "cell_type": "markdown",
   "id": "f3e91c10",
   "metadata": {},
   "source": [
    "## Another way to branch"
   ]
  },
  {
   "cell_type": "code",
   "execution_count": 94,
   "id": "2e5d347f",
   "metadata": {},
   "outputs": [
    {
     "name": "stdout",
     "output_type": "stream",
     "text": [
      "I will run\n",
      "And so will he\n",
      "I won't run if he (<-) does\n"
     ]
    }
   ],
   "source": [
    "%%bash\n",
    "# using &&\n",
    "echo \"I will run\" && echo \"And so will he\"\n",
    "\n",
    "# using ||\n",
    "[[ !(-d $(pwd)) ]] || (echo \"I won't run if he (<-) does\")"
   ]
  },
  {
   "cell_type": "code",
   "execution_count": 75,
   "id": "87c54faf",
   "metadata": {},
   "outputs": [
    {
     "name": "stderr",
     "output_type": "stream",
     "text": [
      "bash: line 1: [: /Users/devmysterio/Desktop/Bash: binary operator expected\n"
     ]
    }
   ],
   "source": [
    "%%bash\n",
    "if [ echo $(pwd) ]; then\n",
    "    echo \"here is a directory\"\n",
    "fi"
   ]
  },
  {
   "cell_type": "code",
   "execution_count": 105,
   "id": "d00f7032",
   "metadata": {},
   "outputs": [
    {
     "name": "stdout",
     "output_type": "stream",
     "text": [
      "I ran!\n"
     ]
    },
    {
     "name": "stderr",
     "output_type": "stream",
     "text": [
      "bash: line 1: [: !(-d: unary operator expected\n"
     ]
    }
   ],
   "source": [
    "%%bash\n",
    "[ !\\(-d \"$(pwd)\"\\) ] || (echo \"I ran!\")"
   ]
  },
  {
   "cell_type": "markdown",
   "id": "90076004",
   "metadata": {},
   "source": [
    "##"
   ]
  }
 ],
 "metadata": {
  "kernelspec": {
   "display_name": "Python 3.8.9 64-bit",
   "language": "python",
   "name": "python389jvsc74a57bd031f2aee4e71d21fbe5cf8b01ff0e069b9275f58929596ceb00d14d90e3e16cd6"
  },
  "language_info": {
   "codemirror_mode": {
    "name": "ipython",
    "version": 3
   },
   "file_extension": ".py",
   "mimetype": "text/x-python",
   "name": "python",
   "nbconvert_exporter": "python",
   "pygments_lexer": "ipython3",
   "version": "3.8.9"
  }
 },
 "nbformat": 4,
 "nbformat_minor": 5
}
